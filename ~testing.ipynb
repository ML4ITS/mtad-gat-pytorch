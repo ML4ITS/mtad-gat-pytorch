{
 "cells": [
  {
   "cell_type": "code",
   "execution_count": 26,
   "id": "0289a080-b85a-4dca-9261-de9094bc702a",
   "metadata": {},
   "outputs": [],
   "source": [
    "import os\n",
    "import pickle\n",
    "import numpy as np"
   ]
  },
  {
   "cell_type": "code",
   "execution_count": 39,
   "id": "45dd0112-ac51-40f4-b220-8c3ec953d351",
   "metadata": {},
   "outputs": [
    {
     "data": {
      "text/plain": [
       "900524"
      ]
     },
     "execution_count": 39,
     "metadata": {},
     "output_type": "execute_result"
    }
   ],
   "source": [
    "(train_data==train_data_2).sum()"
   ]
  },
  {
   "cell_type": "code",
   "execution_count": 40,
   "id": "9f0a24a3-db6c-455a-8423-60948e1ca830",
   "metadata": {},
   "outputs": [
    {
     "data": {
      "text/plain": [
       "900524"
      ]
     },
     "execution_count": 40,
     "metadata": {},
     "output_type": "execute_result"
    }
   ],
   "source": [
    "train_data.shape[0]*train_data.shape[1]"
   ]
  },
  {
   "cell_type": "code",
   "execution_count": 33,
   "id": "fa41b3e9-3df3-42e4-9013-4e1dfa3dcb4a",
   "metadata": {},
   "outputs": [
    {
     "data": {
      "text/plain": [
       "array([[0.06383 , 0.072519, 0.082098, ..., 0.065868, 0.      , 0.      ],\n",
       "       [0.12766 , 0.067748, 0.082098, ..., 0.077844, 0.      , 0.      ],\n",
       "       [0.106383, 0.131679, 0.099202, ..., 0.083832, 0.      , 0.      ],\n",
       "       ...,\n",
       "       [0.329787, 0.295802, 0.323831, ..., 0.215569, 0.      , 0.      ],\n",
       "       [0.308511, 0.229962, 0.303307, ..., 0.213573, 0.      , 0.      ],\n",
       "       [0.329787, 0.204198, 0.287343, ..., 0.219561, 0.      , 0.      ]],\n",
       "      dtype=float32)"
      ]
     },
     "execution_count": 33,
     "metadata": {},
     "output_type": "execute_result"
    }
   ],
   "source": [
    "train_data_2"
   ]
  },
  {
   "cell_type": "code",
   "execution_count": 43,
   "id": "025c37d0-e66f-489c-ae8b-185f77cbc91e",
   "metadata": {},
   "outputs": [
    {
     "data": {
      "text/plain": [
       "array([0., 0., 0., ..., 0., 0., 0.])"
      ]
     },
     "execution_count": 43,
     "metadata": {},
     "output_type": "execute_result"
    }
   ],
   "source": [
    "np.loadtxt(os.path.join(dataset_folder, \"labels.txt\"), delimiter=\",\")"
   ]
  },
  {
   "cell_type": "code",
   "execution_count": 44,
   "id": "c1893c68-97ca-43cb-9fa2-c786ae3cde12",
   "metadata": {},
   "outputs": [],
   "source": [
    "f = open(\"datasets/system_1/processsed/labels.pkl\", \"rb\")\n",
    "aa = pickle.load(f).reshape((-1))\n",
    "f.close()"
   ]
  },
  {
   "cell_type": "code",
   "execution_count": 4,
   "id": "fa3e4d71-0bb5-4917-9ea3-bda539a2c338",
   "metadata": {},
   "outputs": [
    {
     "data": {
      "text/plain": [
       "array([0., 0., 0., ..., 0., 0., 0.], dtype=float32)"
      ]
     },
     "execution_count": 45,
     "metadata": {},
     "output_type": "execute_result"
    }
   ],
   "source": [
    "from os import path"
   ]
  },
  {
   "cell_type": "code",
   "execution_count": 7,
   "id": "9c69840b-1298-48f6-8e6f-259cb90107ed",
   "metadata": {},
   "outputs": [],
   "source": [
    "import numpy as np"
   ]
  },
  {
   "cell_type": "code",
   "execution_count": 9,
   "id": "643c94af-a0d3-43a0-a3b2-172effd6c575",
   "metadata": {},
   "outputs": [
    {
     "data": {
      "text/plain": [
       "['machine-1-1.txt',\n",
       " 'machine-1-2.txt',\n",
       " 'machine-1-3.txt',\n",
       " 'machine-1-4.txt',\n",
       " 'machine-1-5.txt',\n",
       " 'machine-1-6.txt',\n",
       " 'machine-1-7.txt',\n",
       " 'machine-1-8.txt',\n",
       " 'machine-2-1.txt',\n",
       " 'machine-2-2.txt',\n",
       " 'machine-2-3.txt',\n",
       " 'machine-2-4.txt',\n",
       " 'machine-2-5.txt',\n",
       " 'machine-2-6.txt',\n",
       " 'machine-2-7.txt',\n",
       " 'machine-2-8.txt',\n",
       " 'machine-2-9.txt',\n",
       " 'machine-3-1.txt',\n",
       " 'machine-3-10.txt',\n",
       " 'machine-3-11.txt',\n",
       " 'machine-3-2.txt',\n",
       " 'machine-3-3.txt',\n",
       " 'machine-3-4.txt',\n",
       " 'machine-3-5.txt',\n",
       " 'machine-3-6.txt',\n",
       " 'machine-3-7.txt',\n",
       " 'machine-3-8.txt',\n",
       " 'machine-3-9.txt']"
      ]
     },
     "execution_count": 9,
     "metadata": {},
     "output_type": "execute_result"
    }
   ],
   "source": [
    "file_list"
   ]
  },
  {
   "cell_type": "code",
   "execution_count": null,
   "id": "f0db3490-863c-4b22-83c1-7cadcff2e06e",
   "metadata": {},
   "outputs": [],
   "source": []
  }
 ],
 "metadata": {
  "kernelspec": {
   "display_name": "Python 3 (ipykernel)",
   "language": "python",
   "name": "python3"
  },
  "language_info": {
   "codemirror_mode": {
    "name": "ipython",
    "version": 3
   },
   "file_extension": ".py",
   "mimetype": "text/x-python",
   "name": "python",
   "nbconvert_exporter": "python",
   "pygments_lexer": "ipython3",
   "version": "3.8.11"
  }
 },
 "nbformat": 4,
 "nbformat_minor": 5
}
