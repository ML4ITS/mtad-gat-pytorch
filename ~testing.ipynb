{
 "cells": [
  {
   "cell_type": "code",
   "execution_count": 17,
   "id": "0289a080-b85a-4dca-9261-de9094bc702a",
   "metadata": {},
   "outputs": [],
   "source": [
    "from os import makedirs, path\n",
    "from pickle import dump\n",
    "import numpy as np\n",
    "\n",
    "from args import get_parser\n",
    "\n",
    "# Loads the data from the .txt files and saves them into pickled objects\n",
    "def load_and_save(filename, dataset, output_folder):\n",
    "    temp = np.genfromtxt(\n",
    "        path.join(dataset, filename),\n",
    "        dtype=np.float32,\n",
    "        delimiter=\",\",\n",
    "    )\n",
    "    print(f\"{filename}: {temp.shape}\")\n",
    "    with open(path.join(output_folder, filename[:-4]+\".pkl\"), \"wb\") as file:\n",
    "        dump(temp, file)\n",
    "\n",
    "# Each dataset should in general have three files:\n",
    "# 1. train.txt -> contains csv of features for training\n",
    "# 2. test.txt -> contains csv of features for evaluation\n",
    "# 3. labels.txt -> contains the labels of the test data\n",
    "def load_data(dataset):\n",
    "    dataset_folder = path.join(\"datasets\", dataset)\n",
    "    output_folder = path.join(dataset_folder,\"processsed\")\n",
    "    # Make the directory if it does not exist\n",
    "    makedirs(output_folder, exist_ok=True)\n",
    "    # Load the 3 files and save them\n",
    "    load_and_save(\"train.txt\", dataset_folder, output_folder)\n",
    "    load_and_save(\"test.txt\", dataset_folder, output_folder)\n",
    "    load_and_save(\"labels.txt\", dataset_folder, output_folder)"
   ]
  },
  {
   "cell_type": "code",
   "execution_count": 19,
   "id": "025c37d0-e66f-489c-ae8b-185f77cbc91e",
   "metadata": {},
   "outputs": [
    {
     "name": "stdout",
     "output_type": "stream",
     "text": [
      "train.txt: (23698, 38)\n",
      "test.txt: (23699, 38)\n",
      "labels.txt: (23699,)\n"
     ]
    }
   ],
   "source": [
    "load_data(\"system_1\")"
   ]
  },
  {
   "cell_type": "code",
   "execution_count": 6,
   "id": "c1893c68-97ca-43cb-9fa2-c786ae3cde12",
   "metadata": {},
   "outputs": [],
   "source": [
    "def load_and_save(category, filename, dataset, dataset_folder, output_folder):\n",
    "    temp = np.genfromtxt(\n",
    "        path.join(dataset_folder, category, filename),\n",
    "        dtype=np.float32,\n",
    "        delimiter=\",\",\n",
    "    )\n",
    "    print(dataset, category, filename, temp.shape)\n",
    "    with open(path.join(output_folder, dataset + \"_\" + category + \".pkl\"), \"wb\") as file:\n",
    "        dump(temp, file)"
   ]
  },
  {
   "cell_type": "code",
   "execution_count": 4,
   "id": "fa3e4d71-0bb5-4917-9ea3-bda539a2c338",
   "metadata": {},
   "outputs": [],
   "source": [
    "from os import path"
   ]
  },
  {
   "cell_type": "code",
   "execution_count": 7,
   "id": "9c69840b-1298-48f6-8e6f-259cb90107ed",
   "metadata": {},
   "outputs": [],
   "source": [
    "import numpy as np"
   ]
  },
  {
   "cell_type": "code",
   "execution_count": 9,
   "id": "643c94af-a0d3-43a0-a3b2-172effd6c575",
   "metadata": {},
   "outputs": [
    {
     "data": {
      "text/plain": [
       "['machine-1-1.txt',\n",
       " 'machine-1-2.txt',\n",
       " 'machine-1-3.txt',\n",
       " 'machine-1-4.txt',\n",
       " 'machine-1-5.txt',\n",
       " 'machine-1-6.txt',\n",
       " 'machine-1-7.txt',\n",
       " 'machine-1-8.txt',\n",
       " 'machine-2-1.txt',\n",
       " 'machine-2-2.txt',\n",
       " 'machine-2-3.txt',\n",
       " 'machine-2-4.txt',\n",
       " 'machine-2-5.txt',\n",
       " 'machine-2-6.txt',\n",
       " 'machine-2-7.txt',\n",
       " 'machine-2-8.txt',\n",
       " 'machine-2-9.txt',\n",
       " 'machine-3-1.txt',\n",
       " 'machine-3-10.txt',\n",
       " 'machine-3-11.txt',\n",
       " 'machine-3-2.txt',\n",
       " 'machine-3-3.txt',\n",
       " 'machine-3-4.txt',\n",
       " 'machine-3-5.txt',\n",
       " 'machine-3-6.txt',\n",
       " 'machine-3-7.txt',\n",
       " 'machine-3-8.txt',\n",
       " 'machine-3-9.txt']"
      ]
     },
     "execution_count": 9,
     "metadata": {},
     "output_type": "execute_result"
    }
   ],
   "source": [
    "file_list"
   ]
  },
  {
   "cell_type": "code",
   "execution_count": null,
   "id": "f0db3490-863c-4b22-83c1-7cadcff2e06e",
   "metadata": {},
   "outputs": [],
   "source": []
  }
 ],
 "metadata": {
  "kernelspec": {
   "display_name": "Python 3 (ipykernel)",
   "language": "python",
   "name": "python3"
  },
  "language_info": {
   "codemirror_mode": {
    "name": "ipython",
    "version": 3
   },
   "file_extension": ".py",
   "mimetype": "text/x-python",
   "name": "python",
   "nbconvert_exporter": "python",
   "pygments_lexer": "ipython3",
   "version": "3.8.11"
  }
 },
 "nbformat": 4,
 "nbformat_minor": 5
}
