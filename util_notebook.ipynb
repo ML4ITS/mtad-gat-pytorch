{
 "cells": [
  {
   "cell_type": "code",
   "execution_count": 1,
   "metadata": {},
   "outputs": [],
   "source": [
    "import pickle\n",
    "\n",
    "# Specify the path to your .pkl file\n",
    "pkl_file_path = 'datasets\\ServerMachineDataset\\processed\\machine-1-1_test.pkl'\n",
    "\n",
    "# Open and read the .pkl file\n",
    "with open(pkl_file_path, 'rb') as file:\n",
    "    loaded_data = pickle.load(file)"
   ]
  },
  {
   "cell_type": "code",
   "execution_count": 64,
   "metadata": {},
   "outputs": [
    {
     "data": {
      "text/html": [
       "<div>\n",
       "<style scoped>\n",
       "    .dataframe tbody tr th:only-of-type {\n",
       "        vertical-align: middle;\n",
       "    }\n",
       "\n",
       "    .dataframe tbody tr th {\n",
       "        vertical-align: top;\n",
       "    }\n",
       "\n",
       "    .dataframe thead th {\n",
       "        text-align: right;\n",
       "    }\n",
       "</style>\n",
       "<table border=\"1\" class=\"dataframe\">\n",
       "  <thead>\n",
       "    <tr style=\"text-align: right;\">\n",
       "      <th></th>\n",
       "      <th>0</th>\n",
       "      <th>1</th>\n",
       "      <th>2</th>\n",
       "      <th>3</th>\n",
       "      <th>4</th>\n",
       "      <th>5</th>\n",
       "      <th>6</th>\n",
       "      <th>7</th>\n",
       "      <th>8</th>\n",
       "      <th>9</th>\n",
       "      <th>...</th>\n",
       "      <th>28</th>\n",
       "      <th>29</th>\n",
       "      <th>30</th>\n",
       "      <th>31</th>\n",
       "      <th>32</th>\n",
       "      <th>33</th>\n",
       "      <th>34</th>\n",
       "      <th>35</th>\n",
       "      <th>36</th>\n",
       "      <th>37</th>\n",
       "    </tr>\n",
       "  </thead>\n",
       "  <tbody>\n",
       "    <tr>\n",
       "      <th>0</th>\n",
       "      <td>0.075269</td>\n",
       "      <td>0.065678</td>\n",
       "      <td>0.070234</td>\n",
       "      <td>0.074332</td>\n",
       "      <td>0.0</td>\n",
       "      <td>0.933333</td>\n",
       "      <td>0.274011</td>\n",
       "      <td>0.0</td>\n",
       "      <td>0.031081</td>\n",
       "      <td>0.000000</td>\n",
       "      <td>...</td>\n",
       "      <td>0.0</td>\n",
       "      <td>0.008596</td>\n",
       "      <td>0.068036</td>\n",
       "      <td>0.048893</td>\n",
       "      <td>0.000386</td>\n",
       "      <td>0.000034</td>\n",
       "      <td>0.064432</td>\n",
       "      <td>0.064500</td>\n",
       "      <td>0.0</td>\n",
       "      <td>0.0</td>\n",
       "    </tr>\n",
       "    <tr>\n",
       "      <th>1</th>\n",
       "      <td>0.086022</td>\n",
       "      <td>0.080508</td>\n",
       "      <td>0.075808</td>\n",
       "      <td>0.076655</td>\n",
       "      <td>0.0</td>\n",
       "      <td>0.930769</td>\n",
       "      <td>0.274953</td>\n",
       "      <td>0.0</td>\n",
       "      <td>0.031081</td>\n",
       "      <td>0.000122</td>\n",
       "      <td>...</td>\n",
       "      <td>0.0</td>\n",
       "      <td>0.008596</td>\n",
       "      <td>0.070020</td>\n",
       "      <td>0.050437</td>\n",
       "      <td>0.000386</td>\n",
       "      <td>0.000022</td>\n",
       "      <td>0.065228</td>\n",
       "      <td>0.065224</td>\n",
       "      <td>0.0</td>\n",
       "      <td>0.0</td>\n",
       "    </tr>\n",
       "    <tr>\n",
       "      <th>2</th>\n",
       "      <td>0.075269</td>\n",
       "      <td>0.064619</td>\n",
       "      <td>0.071349</td>\n",
       "      <td>0.074332</td>\n",
       "      <td>0.0</td>\n",
       "      <td>0.928205</td>\n",
       "      <td>0.274953</td>\n",
       "      <td>0.0</td>\n",
       "      <td>0.030940</td>\n",
       "      <td>0.000366</td>\n",
       "      <td>...</td>\n",
       "      <td>0.0</td>\n",
       "      <td>0.008596</td>\n",
       "      <td>0.069684</td>\n",
       "      <td>0.055069</td>\n",
       "      <td>0.000386</td>\n",
       "      <td>0.000045</td>\n",
       "      <td>0.067111</td>\n",
       "      <td>0.067178</td>\n",
       "      <td>0.0</td>\n",
       "      <td>0.0</td>\n",
       "    </tr>\n",
       "    <tr>\n",
       "      <th>3</th>\n",
       "      <td>0.086022</td>\n",
       "      <td>0.048729</td>\n",
       "      <td>0.063545</td>\n",
       "      <td>0.070848</td>\n",
       "      <td>0.0</td>\n",
       "      <td>0.928205</td>\n",
       "      <td>0.273070</td>\n",
       "      <td>0.0</td>\n",
       "      <td>0.027250</td>\n",
       "      <td>0.000244</td>\n",
       "      <td>...</td>\n",
       "      <td>0.0</td>\n",
       "      <td>0.010029</td>\n",
       "      <td>0.073253</td>\n",
       "      <td>0.051467</td>\n",
       "      <td>0.000000</td>\n",
       "      <td>0.000034</td>\n",
       "      <td>0.066676</td>\n",
       "      <td>0.066744</td>\n",
       "      <td>0.0</td>\n",
       "      <td>0.0</td>\n",
       "    </tr>\n",
       "    <tr>\n",
       "      <th>4</th>\n",
       "      <td>0.086022</td>\n",
       "      <td>0.051907</td>\n",
       "      <td>0.062430</td>\n",
       "      <td>0.070848</td>\n",
       "      <td>0.0</td>\n",
       "      <td>0.933333</td>\n",
       "      <td>0.274011</td>\n",
       "      <td>0.0</td>\n",
       "      <td>0.030940</td>\n",
       "      <td>0.000244</td>\n",
       "      <td>...</td>\n",
       "      <td>0.0</td>\n",
       "      <td>0.008596</td>\n",
       "      <td>0.070932</td>\n",
       "      <td>0.051467</td>\n",
       "      <td>0.000386</td>\n",
       "      <td>0.000022</td>\n",
       "      <td>0.066604</td>\n",
       "      <td>0.066671</td>\n",
       "      <td>0.0</td>\n",
       "      <td>0.0</td>\n",
       "    </tr>\n",
       "    <tr>\n",
       "      <th>...</th>\n",
       "      <td>...</td>\n",
       "      <td>...</td>\n",
       "      <td>...</td>\n",
       "      <td>...</td>\n",
       "      <td>...</td>\n",
       "      <td>...</td>\n",
       "      <td>...</td>\n",
       "      <td>...</td>\n",
       "      <td>...</td>\n",
       "      <td>...</td>\n",
       "      <td>...</td>\n",
       "      <td>...</td>\n",
       "      <td>...</td>\n",
       "      <td>...</td>\n",
       "      <td>...</td>\n",
       "      <td>...</td>\n",
       "      <td>...</td>\n",
       "      <td>...</td>\n",
       "      <td>...</td>\n",
       "      <td>...</td>\n",
       "      <td>...</td>\n",
       "    </tr>\n",
       "    <tr>\n",
       "      <th>28474</th>\n",
       "      <td>0.075269</td>\n",
       "      <td>0.051907</td>\n",
       "      <td>0.047938</td>\n",
       "      <td>0.047619</td>\n",
       "      <td>0.0</td>\n",
       "      <td>0.907692</td>\n",
       "      <td>0.257062</td>\n",
       "      <td>0.0</td>\n",
       "      <td>0.043571</td>\n",
       "      <td>0.000244</td>\n",
       "      <td>...</td>\n",
       "      <td>0.0</td>\n",
       "      <td>0.031519</td>\n",
       "      <td>0.046733</td>\n",
       "      <td>0.040144</td>\n",
       "      <td>0.000000</td>\n",
       "      <td>0.000022</td>\n",
       "      <td>0.042931</td>\n",
       "      <td>0.043000</td>\n",
       "      <td>0.0</td>\n",
       "      <td>0.0</td>\n",
       "    </tr>\n",
       "    <tr>\n",
       "      <th>28475</th>\n",
       "      <td>0.064516</td>\n",
       "      <td>0.025424</td>\n",
       "      <td>0.039019</td>\n",
       "      <td>0.044135</td>\n",
       "      <td>0.0</td>\n",
       "      <td>0.905128</td>\n",
       "      <td>0.257062</td>\n",
       "      <td>0.0</td>\n",
       "      <td>0.032501</td>\n",
       "      <td>0.000000</td>\n",
       "      <td>...</td>\n",
       "      <td>0.0</td>\n",
       "      <td>0.031519</td>\n",
       "      <td>0.047438</td>\n",
       "      <td>0.048893</td>\n",
       "      <td>0.000000</td>\n",
       "      <td>0.000056</td>\n",
       "      <td>0.046550</td>\n",
       "      <td>0.046619</td>\n",
       "      <td>0.0</td>\n",
       "      <td>0.0</td>\n",
       "    </tr>\n",
       "    <tr>\n",
       "      <th>28476</th>\n",
       "      <td>0.064516</td>\n",
       "      <td>0.080508</td>\n",
       "      <td>0.050167</td>\n",
       "      <td>0.047619</td>\n",
       "      <td>0.0</td>\n",
       "      <td>0.907692</td>\n",
       "      <td>0.258004</td>\n",
       "      <td>0.0</td>\n",
       "      <td>0.026114</td>\n",
       "      <td>0.000611</td>\n",
       "      <td>...</td>\n",
       "      <td>0.0</td>\n",
       "      <td>0.031519</td>\n",
       "      <td>0.046797</td>\n",
       "      <td>0.040144</td>\n",
       "      <td>0.000386</td>\n",
       "      <td>0.000045</td>\n",
       "      <td>0.043003</td>\n",
       "      <td>0.043000</td>\n",
       "      <td>0.0</td>\n",
       "      <td>0.0</td>\n",
       "    </tr>\n",
       "    <tr>\n",
       "      <th>28477</th>\n",
       "      <td>0.064516</td>\n",
       "      <td>0.056144</td>\n",
       "      <td>0.047938</td>\n",
       "      <td>0.046458</td>\n",
       "      <td>0.0</td>\n",
       "      <td>0.902564</td>\n",
       "      <td>0.257062</td>\n",
       "      <td>0.0</td>\n",
       "      <td>0.033210</td>\n",
       "      <td>0.000122</td>\n",
       "      <td>...</td>\n",
       "      <td>0.0</td>\n",
       "      <td>0.031519</td>\n",
       "      <td>0.041884</td>\n",
       "      <td>0.043232</td>\n",
       "      <td>0.000000</td>\n",
       "      <td>0.000045</td>\n",
       "      <td>0.039890</td>\n",
       "      <td>0.039959</td>\n",
       "      <td>0.0</td>\n",
       "      <td>0.0</td>\n",
       "    </tr>\n",
       "    <tr>\n",
       "      <th>28478</th>\n",
       "      <td>0.010753</td>\n",
       "      <td>0.029661</td>\n",
       "      <td>0.041249</td>\n",
       "      <td>0.044135</td>\n",
       "      <td>0.0</td>\n",
       "      <td>0.892308</td>\n",
       "      <td>0.256121</td>\n",
       "      <td>0.0</td>\n",
       "      <td>0.030656</td>\n",
       "      <td>0.001966</td>\n",
       "      <td>...</td>\n",
       "      <td>0.0</td>\n",
       "      <td>0.034384</td>\n",
       "      <td>0.000000</td>\n",
       "      <td>0.000000</td>\n",
       "      <td>0.000386</td>\n",
       "      <td>0.000146</td>\n",
       "      <td>0.000000</td>\n",
       "      <td>0.000000</td>\n",
       "      <td>0.0</td>\n",
       "      <td>0.0</td>\n",
       "    </tr>\n",
       "  </tbody>\n",
       "</table>\n",
       "<p>28479 rows × 38 columns</p>\n",
       "</div>"
      ],
      "text/plain": [
       "             0         1         2         3    4         5         6    7   \\\n",
       "0      0.075269  0.065678  0.070234  0.074332  0.0  0.933333  0.274011  0.0   \n",
       "1      0.086022  0.080508  0.075808  0.076655  0.0  0.930769  0.274953  0.0   \n",
       "2      0.075269  0.064619  0.071349  0.074332  0.0  0.928205  0.274953  0.0   \n",
       "3      0.086022  0.048729  0.063545  0.070848  0.0  0.928205  0.273070  0.0   \n",
       "4      0.086022  0.051907  0.062430  0.070848  0.0  0.933333  0.274011  0.0   \n",
       "...         ...       ...       ...       ...  ...       ...       ...  ...   \n",
       "28474  0.075269  0.051907  0.047938  0.047619  0.0  0.907692  0.257062  0.0   \n",
       "28475  0.064516  0.025424  0.039019  0.044135  0.0  0.905128  0.257062  0.0   \n",
       "28476  0.064516  0.080508  0.050167  0.047619  0.0  0.907692  0.258004  0.0   \n",
       "28477  0.064516  0.056144  0.047938  0.046458  0.0  0.902564  0.257062  0.0   \n",
       "28478  0.010753  0.029661  0.041249  0.044135  0.0  0.892308  0.256121  0.0   \n",
       "\n",
       "             8         9   ...   28        29        30        31        32  \\\n",
       "0      0.031081  0.000000  ...  0.0  0.008596  0.068036  0.048893  0.000386   \n",
       "1      0.031081  0.000122  ...  0.0  0.008596  0.070020  0.050437  0.000386   \n",
       "2      0.030940  0.000366  ...  0.0  0.008596  0.069684  0.055069  0.000386   \n",
       "3      0.027250  0.000244  ...  0.0  0.010029  0.073253  0.051467  0.000000   \n",
       "4      0.030940  0.000244  ...  0.0  0.008596  0.070932  0.051467  0.000386   \n",
       "...         ...       ...  ...  ...       ...       ...       ...       ...   \n",
       "28474  0.043571  0.000244  ...  0.0  0.031519  0.046733  0.040144  0.000000   \n",
       "28475  0.032501  0.000000  ...  0.0  0.031519  0.047438  0.048893  0.000000   \n",
       "28476  0.026114  0.000611  ...  0.0  0.031519  0.046797  0.040144  0.000386   \n",
       "28477  0.033210  0.000122  ...  0.0  0.031519  0.041884  0.043232  0.000000   \n",
       "28478  0.030656  0.001966  ...  0.0  0.034384  0.000000  0.000000  0.000386   \n",
       "\n",
       "             33        34        35   36   37  \n",
       "0      0.000034  0.064432  0.064500  0.0  0.0  \n",
       "1      0.000022  0.065228  0.065224  0.0  0.0  \n",
       "2      0.000045  0.067111  0.067178  0.0  0.0  \n",
       "3      0.000034  0.066676  0.066744  0.0  0.0  \n",
       "4      0.000022  0.066604  0.066671  0.0  0.0  \n",
       "...         ...       ...       ...  ...  ...  \n",
       "28474  0.000022  0.042931  0.043000  0.0  0.0  \n",
       "28475  0.000056  0.046550  0.046619  0.0  0.0  \n",
       "28476  0.000045  0.043003  0.043000  0.0  0.0  \n",
       "28477  0.000045  0.039890  0.039959  0.0  0.0  \n",
       "28478  0.000146  0.000000  0.000000  0.0  0.0  \n",
       "\n",
       "[28479 rows x 38 columns]"
      ]
     },
     "execution_count": 64,
     "metadata": {},
     "output_type": "execute_result"
    }
   ],
   "source": [
    "import pandas as pd\n",
    "pd.DataFrame(loaded_data)\n",
    "\n"
   ]
  },
  {
   "cell_type": "code",
   "execution_count": 223,
   "metadata": {},
   "outputs": [
    {
     "data": {
      "text/plain": [
       "Index([' Timestamp', 'FIT101', 'LIT101', ' MV101', 'P101', 'P102', ' AIT201',\n",
       "       'AIT202', 'AIT203', 'FIT201', ' MV201', ' P201', ' P202', 'P203',\n",
       "       ' P204', 'P205', 'P206', 'DPIT301', 'FIT301', 'LIT301', 'MV301',\n",
       "       'MV302', ' MV303', 'MV304', 'P301', 'P302', 'AIT401', 'AIT402',\n",
       "       'FIT401', 'LIT401', 'P401', 'P402', 'P403', 'P404', 'UV401', 'AIT501',\n",
       "       'AIT502', 'AIT503', 'AIT504', 'FIT501', 'FIT502', 'FIT503', 'FIT504',\n",
       "       'P501', 'P502', 'PIT501', 'PIT502', 'PIT503', 'FIT601', 'P601', 'P602',\n",
       "       'P603', 'Normal/Attack'],\n",
       "      dtype='object')"
      ]
     },
     "execution_count": 223,
     "metadata": {},
     "output_type": "execute_result"
    }
   ],
   "source": [
    "swat = pd.read_csv('datasets\\data\\SWaT_Dataset_Attack_v0.csv')\n",
    "swat.columns"
   ]
  },
  {
   "cell_type": "code",
   "execution_count": 4,
   "metadata": {},
   "outputs": [],
   "source": [
    "\n",
    "#from matplotlib import pyplot as plt\n",
    "#for c in swat.columns[1:51]:\n",
    "#    fig = plt.figure()\n",
    "#    plt.plot(swat[c].values)\n",
    "#    plt.plot(swat['Normal/Attack']=='Normal')"
   ]
  },
  {
   "cell_type": "code",
   "execution_count": 224,
   "metadata": {},
   "outputs": [],
   "source": [
    "swat = swat.drop(' Timestamp', axis=1)\n",
    "labels = (swat['Normal/Attack'].values=='Attack')\n",
    "values = swat.drop('Normal/Attack', axis=1).values\n",
    "\n",
    "\n",
    "#from sklearn.preprocessing  import StandardScaler\n",
    "#scaler = StandardScaler()\n",
    "#values = scaler.fit_transform(values) "
   ]
  },
  {
   "cell_type": "code",
   "execution_count": 225,
   "metadata": {},
   "outputs": [
    {
     "data": {
      "text/plain": [
       "[<matplotlib.lines.Line2D at 0x2a1fa3f7c90>]"
      ]
     },
     "execution_count": 225,
     "metadata": {},
     "output_type": "execute_result"
    },
    {
     "data": {
      "image/png": "[encoded data removed]",
      "text/plain": [
       "<Figure size 640x480 with 1 Axes>"
      ]
     },
     "metadata": {},
     "output_type": "display_data"
    }
   ],
   "source": [
    "x = values[:, 6]\n",
    "plt.plot(x)\n"
   ]
  },
  {
   "cell_type": "code",
   "execution_count": 205,
   "metadata": {},
   "outputs": [
    {
     "data": {
      "text/plain": [
       "(265664, 51)"
      ]
     },
     "execution_count": 205,
     "metadata": {},
     "output_type": "execute_result"
    }
   ],
   "source": [
    "train_test_split=0.7\n",
    "\n",
    "train_values = values[:int(train_test_split*len(labels)),:]\n",
    "train_labels = labels[:int(train_test_split*len(labels))]\n",
    "\n",
    "test_values = values[int(train_test_split*len(labels)):,:]\n",
    "test_labels = labels[int(train_test_split*len(labels)):]\n",
    "\n",
    "train_values[train_labels==False].shape"
   ]
  },
  {
   "cell_type": "code",
   "execution_count": null,
   "metadata": {},
   "outputs": [],
   "source": [
    "import pickle\n",
    "\n",
    "#dump train values into file\n",
    "path = 'datasets/data/processed/SWAT_train.pkl'\n",
    "with open(path, 'wb') as file:\n",
    "    pickle.dump(train_values, file)\n",
    "\n",
    "\n",
    "\n",
    "#dump test values into file\n",
    "path = 'datasets/data/processed/SWAT_test.pkl'\n",
    "with open(path, 'wb') as file:\n",
    "    pickle.dump(test_values, file)\n",
    "\n",
    "\n",
    "#dump test labels into file\n",
    "path = 'datasets/data/processed/SWAT_test_label.pkl'\n",
    "with open(path, 'wb') as file:\n",
    "    pickle.dump(test_labels, file)"
   ]
  },
  {
   "cell_type": "code",
   "execution_count": 226,
   "metadata": {},
   "outputs": [
    {
     "data": {
      "text/plain": [
       "[<matplotlib.lines.Line2D at 0x2a231e3a8d0>]"
      ]
     },
     "execution_count": 226,
     "metadata": {},
     "output_type": "execute_result"
    },
    {
     "data": {
      "image/png": "[encoded data removed]",
      "text/plain": [
       "<Figure size 640x480 with 1 Axes>"
      ]
     },
     "metadata": {},
     "output_type": "display_data"
    }
   ],
   "source": [
    "import numpy as np\n",
    "from matplotlib import pyplot as plt\n",
    "x = values[:, 6]\n",
    "plt.plot(x[7170:7500])\n",
    "#plt.plot(x)"
   ]
  },
  {
   "cell_type": "code",
   "execution_count": 214,
   "metadata": {},
   "outputs": [],
   "source": [
    "from scipy import stats\n",
    "\n",
    "fft_result = np.fft.fft(x)\n",
    "log_amplitude = np.log(np.abs(fft_result))\n",
    "phase = np.angle(fft_result)\n",
    "window_size = 20\n",
    "smoothed_log_amplitude = np.convolve(log_amplitude, np.ones(window_size)/window_size, mode = 'same')\n",
    "residual_log_amplitude = smoothed_log_amplitude-log_amplitude\n",
    "im_unit = 1j\n",
    "sr = np.abs(np.fft.ifft(np.exp(residual_log_amplitude + im_unit*phase)))\n",
    "tau = 1\n",
    "sr_mean = np.mean(sr)\n",
    "sr_var = np.var(sr)\n",
    "outliers =  ((sr-sr_mean) > tau*sr_mean)\n",
    "x_replaced = x\n",
    "x_replaced[outliers] = stats.mode(x)[0]"
   ]
  },
  {
   "cell_type": "code",
   "execution_count": 215,
   "metadata": {},
   "outputs": [
    {
     "data": {
      "text/plain": [
       "[<matplotlib.lines.Line2D at 0x2a231e8e1d0>]"
      ]
     },
     "execution_count": 215,
     "metadata": {},
     "output_type": "execute_result"
    },
    {
     "data": {
      "image/png": "[encoded data removed]",
      "text/plain": [
       "<Figure size 640x480 with 1 Axes>"
      ]
     },
     "metadata": {},
     "output_type": "display_data"
    }
   ],
   "source": [
    "np.where(outliers)\n",
    "plt.figure()\n",
    "#plt.plot(x_replaced[7270:7400])\n",
    "#plt.plot(x[7270:7400])\n",
    "plt.plot(outliers)"
   ]
  },
  {
   "cell_type": "code",
   "execution_count": 201,
   "metadata": {},
   "outputs": [
    {
     "data": {
      "text/plain": [
       "[<matplotlib.lines.Line2D at 0x2a190208150>]"
      ]
     },
     "execution_count": 201,
     "metadata": {},
     "output_type": "execute_result"
    },
    {
     "data": {
      "image/png": "[encoded data removed]",
      "text/plain": [
       "<Figure size 640x480 with 1 Axes>"
      ]
     },
     "metadata": {},
     "output_type": "display_data"
    }
   ],
   "source": [
    "plt.figure()\n",
    "res = sr-sr_mean\n",
    "plt.plot(res[7270:7400])\n",
    "plt.plot(outliers[7270:7400])\n"
   ]
  },
  {
   "cell_type": "code",
   "execution_count": 122,
   "metadata": {},
   "outputs": [
    {
     "data": {
      "text/plain": [
       "42"
      ]
     },
     "execution_count": 122,
     "metadata": {},
     "output_type": "execute_result"
    }
   ],
   "source": [
    "np.sum(outliers)"
   ]
  },
  {
   "cell_type": "code",
   "execution_count": null,
   "metadata": {},
   "outputs": [],
   "source": [
    "import numpy as np\n",
    "def spectral_residual_replace(x, tau=20, window_size=20):\n",
    "    #compute fourier transform\n",
    "    fft_result = np.fft.fft(x)\n",
    "\n",
    "    #compute phase and log amplitude of fft\n",
    "    log_amplitude = np.log(np.abs(fft_result)) \n",
    "    phase = np.angle(fft_result)\n",
    "    \n",
    "    #smooth the amplitude and compute the residual\n",
    "    smoothed_log_amplitude = np.convolve(log_amplitude, np.ones(window_size)/window_size, mode = 'same')\n",
    "    residual_log_amplitude = smoothed_log_amplitude-log_amplitude\n",
    "    \n",
    "    #compute the spectral residual\n",
    "    im_unit = 1j\n",
    "    sr = np.abs(np.fft.ifft(np.exp(residual_log_amplitude + im_unit*phase)))\n",
    "    \n",
    "    #identify outliers\n",
    "    sr_mean = np.mean(sr)\n",
    "    sr_var = np.var(sr)\n",
    "    outliers =  ((sr-sr_mean) > tau*sr_mean)\n",
    "    \n",
    "    #replace outliers\n",
    "    x_replaced = x\n",
    "    x_replaced[outliers] = np.mean(x) \n",
    "\n",
    "    return x_replaced\n",
    "\n"
   ]
  }
 ],
 "metadata": {
  "kernelspec": {
   "display_name": "mtad-gat",
   "language": "python",
   "name": "python3"
  },
  "language_info": {
   "codemirror_mode": {
    "name": "ipython",
    "version": 3
   },
   "file_extension": ".py",
   "mimetype": "text/x-python",
   "name": "python",
   "nbconvert_exporter": "python",
   "pygments_lexer": "ipython3",
   "version": "3.11.5"
  }
 },
 "nbformat": 4,
 "nbformat_minor": 2
}
